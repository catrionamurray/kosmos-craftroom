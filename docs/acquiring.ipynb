{
 "cells": [
  {
   "attachments": {},
   "cell_type": "markdown",
   "metadata": {},
   "source": [
    "# How do we acquire? \n",
    "\n",
    "Aligning the telescope slit to the correct position and rotation can be tricky. How can we be sure we have the right star? If we want multiple stars in the slit, how do we figure out the exact coordinates and rotation so they'll fit? "
   ]
  },
  {
   "attachments": {},
   "cell_type": "markdown",
   "metadata": {},
   "source": [
    "## Use Simbad for basic data + finders.\n",
    "\n",
    "To search for a star and find its basic properties and a finder chart from previous imaging, try to the [Simbad Identifier Query](http://simbad.cds.unistra.fr/simbad/sim-fid). Enter a star's name (from many different catalogs), and it will pull up its basic data along with some archival imaging of the field. It's a handy way to answer many basic questions you might have on the fly. "
   ]
  },
  {
   "attachments": {},
   "cell_type": "markdown",
   "metadata": {},
   "source": [
    "## Use Gaia for up-to-date star finder charts. "
   ]
  },
  {
   "cell_type": "code",
   "execution_count": null,
   "metadata": {},
   "outputs": [],
   "source": [
    "%matplotlib widget"
   ]
  },
  {
   "cell_type": "code",
   "execution_count": null,
   "metadata": {},
   "outputs": [],
   "source": [
    "from kosmoscraftroom.finder import *"
   ]
  },
  {
   "cell_type": "code",
   "execution_count": null,
   "metadata": {},
   "outputs": [],
   "source": [
    "f = Finder(\"GJ1214\")"
   ]
  },
  {
   "attachments": {},
   "cell_type": "markdown",
   "metadata": {},
   "source": [
    "In the interactive finder chart below, click to select two stars!"
   ]
  },
  {
   "cell_type": "code",
   "execution_count": null,
   "metadata": {},
   "outputs": [],
   "source": [
    "f.interact(faintest_magnitude_to_label=13.5)"
   ]
  },
  {
   "cell_type": "code",
   "execution_count": null,
   "metadata": {},
   "outputs": [],
   "source": [
    "f.interact(filter=\"RP_gaia\", faintest_magnitude_to_label=13.5)"
   ]
  },
  {
   "attachments": {},
   "cell_type": "markdown",
   "metadata": {},
   "source": [
    "To-do:\n",
    "- Propagate proper motions.\n",
    "- Draw the slit (width + length). \n",
    "- There are x stars along this path. \n",
    "- What's the total flux along this path. \n"
   ]
  }
 ],
 "metadata": {
  "kernelspec": {
   "display_name": "Python 3 (ipykernel)",
   "language": "python",
   "name": "python3"
  },
  "language_info": {
   "codemirror_mode": {
    "name": "ipython",
    "version": 3
   },
   "file_extension": ".py",
   "mimetype": "text/x-python",
   "name": "python",
   "nbconvert_exporter": "python",
   "pygments_lexer": "ipython3",
   "version": "3.10.8"
  }
 },
 "nbformat": 4,
 "nbformat_minor": 2
}
