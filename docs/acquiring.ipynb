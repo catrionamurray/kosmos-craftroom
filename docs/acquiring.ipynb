{
 "cells": [
  {
   "attachments": {},
   "cell_type": "markdown",
   "metadata": {},
   "source": [
    "# How do we acquire? \n",
    "\n",
    "Aligning the telescope slit to the correct position and rotation can be tricky. \n",
    "\n",
    "(coming soon)"
   ]
  }
 ],
 "metadata": {
  "language_info": {
   "name": "python"
  },
  "orig_nbformat": 4
 },
 "nbformat": 4,
 "nbformat_minor": 2
}
